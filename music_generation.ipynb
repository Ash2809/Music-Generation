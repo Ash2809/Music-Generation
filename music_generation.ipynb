{
 "cells": [
  {
   "cell_type": "code",
   "execution_count": 1,
   "metadata": {},
   "outputs": [],
   "source": [
    "import tensorflow as tf\n",
    "from tensorflow import keras\n",
    "from keras.layers import LSTM, Dense, Conv1D\n",
    "from keras.models import Model, Sequential, save_model\n",
    "from typing import Dict, List, Tuple, Optional, Sequence\n",
    "from IPython import display\n",
    "\n",
    "import collections\n",
    "import datetime\n",
    "import os\n",
    "import glob\n",
    "import numpy as np\n",
    "import pathlib\n",
    "import pretty_midi \n",
    "import pandas as pd\n",
    "import matplotlib.pyplot as plt\n",
    "import seaborn as sns"
   ]
  },
  {
   "cell_type": "code",
   "execution_count": 2,
   "metadata": {},
   "outputs": [],
   "source": [
    "seed = 42\n",
    "tf.random.set_seed(seed)\n",
    "np.random.seed(seed)\n",
    "\n",
    "SAMPLING_RATE = 16000"
   ]
  },
  {
   "cell_type": "code",
   "execution_count": 3,
   "metadata": {},
   "outputs": [
    {
     "name": "stdout",
     "output_type": "stream",
     "text": [
      "Number of files: 1282\n"
     ]
    }
   ],
   "source": [
    "data_dir = r\"C:\\Users\\aashutosh kumar\\Videos\\maestro-v2.0.0\"\n",
    "filenames = []\n",
    "\n",
    "for root, dirs, files in os.walk(data_dir):\n",
    "    for file in files:\n",
    "        if file.endswith('.mid') or file.endswith('.midi'):\n",
    "            filenames.append(os.path.join(root, file))\n",
    "\n",
    "print('Number of files:', len(filenames))"
   ]
  },
  {
   "cell_type": "code",
   "execution_count": 4,
   "metadata": {},
   "outputs": [
    {
     "data": {
      "text/plain": [
       "['C:\\\\Users\\\\aashutosh kumar\\\\Videos\\\\maestro-v2.0.0\\\\2004\\\\MIDI-Unprocessed_SMF_02_R1_2004_01-05_ORIG_MID--AUDIO_02_R1_2004_05_Track05_wav.midi',\n",
       " 'C:\\\\Users\\\\aashutosh kumar\\\\Videos\\\\maestro-v2.0.0\\\\2004\\\\MIDI-Unprocessed_SMF_02_R1_2004_01-05_ORIG_MID--AUDIO_02_R1_2004_06_Track06_wav.midi',\n",
       " 'C:\\\\Users\\\\aashutosh kumar\\\\Videos\\\\maestro-v2.0.0\\\\2004\\\\MIDI-Unprocessed_SMF_02_R1_2004_01-05_ORIG_MID--AUDIO_02_R1_2004_08_Track08_wav.midi',\n",
       " 'C:\\\\Users\\\\aashutosh kumar\\\\Videos\\\\maestro-v2.0.0\\\\2004\\\\MIDI-Unprocessed_SMF_02_R1_2004_01-05_ORIG_MID--AUDIO_02_R1_2004_10_Track10_wav.midi',\n",
       " 'C:\\\\Users\\\\aashutosh kumar\\\\Videos\\\\maestro-v2.0.0\\\\2004\\\\MIDI-Unprocessed_SMF_05_R1_2004_01_ORIG_MID--AUDIO_05_R1_2004_02_Track02_wav.midi']"
      ]
     },
     "execution_count": 4,
     "metadata": {},
     "output_type": "execute_result"
    }
   ],
   "source": [
    "filenames[:5]"
   ]
  },
  {
   "cell_type": "markdown",
   "metadata": {},
   "source": [
    "Determining Pitch, Step and duration\n"
   ]
  },
  {
   "cell_type": "code",
   "execution_count": 5,
   "metadata": {},
   "outputs": [
    {
     "name": "stdout",
     "output_type": "stream",
     "text": [
      "The file is :  C:\\Users\\aashutosh kumar\\Videos\\maestro-v2.0.0\\2004\\MIDI-Unprocessed_SMF_02_R1_2004_01-05_ORIG_MID--AUDIO_02_R1_2004_06_Track06_wav.midi\n",
      "Number of instruments is:  1\n",
      "The name of instrument is:  Acoustic Grand Piano\n"
     ]
    }
   ],
   "source": [
    "file = filenames[1]\n",
    "print(\"The file is : \",file)\n",
    "\n",
    "pre = pretty_midi.PrettyMIDI(midi_file = file)\n",
    "print(\"Number of instruments is: \", len(pre.instruments))\n",
    "\n",
    "instrument = pre.instruments[0]\n",
    "name_of_instrument = pretty_midi.program_to_instrument_name(instrument.program)\n",
    "\n",
    "print(\"The name of instrument is: \", name_of_instrument)"
   ]
  },
  {
   "cell_type": "code",
   "execution_count": 6,
   "metadata": {},
   "outputs": [
    {
     "name": "stdout",
     "output_type": "stream",
     "text": [
      "number:0| pitch:31| note_name:G1| duration: 0.0656|\n",
      "number:1| pitch:43| note_name:G2| duration: 0.0792|\n",
      "number:2| pitch:44| note_name:G#2| duration: 0.0740|\n",
      "number:3| pitch:32| note_name:G#1| duration: 0.0729|\n",
      "number:4| pitch:34| note_name:A#1| duration: 0.0708|\n",
      "number:5| pitch:46| note_name:A#2| duration: 0.0948|\n",
      "number:6| pitch:48| note_name:C3| duration: 0.6260|\n",
      "number:7| pitch:36| note_name:C2| duration: 0.6542|\n",
      "number:8| pitch:53| note_name:F3| duration: 1.7667|\n",
      "number:9| pitch:56| note_name:G#3| duration: 1.7688|\n"
     ]
    }
   ],
   "source": [
    "for i,note in enumerate(instrument.notes[:10]):\n",
    "    note_name = pretty_midi.note_number_to_name(note.pitch)\n",
    "    duration = note.end - note.start\n",
    "    print(f\"number:{i}| pitch:{note.pitch}| note_name:{note_name}| duration:{duration: .4f}|\")"
   ]
  },
  {
   "cell_type": "markdown",
   "metadata": {},
   "source": [
    "Converting the midi files into Dataframe"
   ]
  },
  {
   "cell_type": "code",
   "execution_count": 7,
   "metadata": {},
   "outputs": [],
   "source": [
    "def midi_to_dataframe(midi_file) -> pd.DataFrame:\n",
    "    pre = pretty_midi.PrettyMIDI(midi_file)\n",
    "    instrument = pre.instruments[0]\n",
    "    sorted_notes = sorted(instrument.notes, key= lambda note: note.start)\n",
    "    prev_start = sorted_notes[0].start\n",
    "\n",
    "    pitches, starts, ends, steps, duration = [], [], [], [], []\n",
    "\n",
    "    for note in sorted_notes :\n",
    "        pitches.append(note.pitch)\n",
    "        starts.append(note.start)\n",
    "        ends.append(note.end)\n",
    "        steps.append(note.start - prev_start)\n",
    "        duration.append(note.end - note.start)\n",
    "\n",
    "    data={\n",
    "        \"pitch\" : np.array(pitches),\n",
    "        \"starts\" : np.array(starts),\n",
    "        \"ends\" : np.array(ends),\n",
    "        \"steps\" : np.array(steps),\n",
    "        \"duration\" : np.array(duration)\n",
    "    }\n",
    "\n",
    "    dataframe = pd.DataFrame(data)\n",
    "    return dataframe    "
   ]
  },
  {
   "cell_type": "code",
   "execution_count": null,
   "metadata": {},
   "outputs": [
    {
     "data": {
      "text/html": [
       "<div>\n",
       "<style scoped>\n",
       "    .dataframe tbody tr th:only-of-type {\n",
       "        vertical-align: middle;\n",
       "    }\n",
       "\n",
       "    .dataframe tbody tr th {\n",
       "        vertical-align: top;\n",
       "    }\n",
       "\n",
       "    .dataframe thead th {\n",
       "        text-align: right;\n",
       "    }\n",
       "</style>\n",
       "<table border=\"1\" class=\"dataframe\">\n",
       "  <thead>\n",
       "    <tr style=\"text-align: right;\">\n",
       "      <th></th>\n",
       "      <th>pitch</th>\n",
       "      <th>starts</th>\n",
       "      <th>ends</th>\n",
       "      <th>steps</th>\n",
       "      <th>duration</th>\n",
       "    </tr>\n",
       "  </thead>\n",
       "  <tbody>\n",
       "    <tr>\n",
       "      <th>0</th>\n",
       "      <td>43</td>\n",
       "      <td>1.032292</td>\n",
       "      <td>1.111458</td>\n",
       "      <td>0.000000</td>\n",
       "      <td>0.079167</td>\n",
       "    </tr>\n",
       "    <tr>\n",
       "      <th>1</th>\n",
       "      <td>31</td>\n",
       "      <td>1.040625</td>\n",
       "      <td>1.106250</td>\n",
       "      <td>0.008333</td>\n",
       "      <td>0.065625</td>\n",
       "    </tr>\n",
       "    <tr>\n",
       "      <th>2</th>\n",
       "      <td>44</td>\n",
       "      <td>1.142708</td>\n",
       "      <td>1.216667</td>\n",
       "      <td>0.110417</td>\n",
       "      <td>0.073958</td>\n",
       "    </tr>\n",
       "    <tr>\n",
       "      <th>3</th>\n",
       "      <td>32</td>\n",
       "      <td>1.144792</td>\n",
       "      <td>1.217708</td>\n",
       "      <td>0.112500</td>\n",
       "      <td>0.072917</td>\n",
       "    </tr>\n",
       "  </tbody>\n",
       "</table>\n",
       "</div>"
      ],
      "text/plain": [
       "   pitch    starts      ends     steps  duration\n",
       "0     43  1.032292  1.111458  0.000000  0.079167\n",
       "1     31  1.040625  1.106250  0.008333  0.065625\n",
       "2     44  1.142708  1.216667  0.110417  0.073958\n",
       "3     32  1.144792  1.217708  0.112500  0.072917"
      ]
     },
     "execution_count": 8,
     "metadata": {},
     "output_type": "execute_result"
    }
   ],
   "source": [
    "sample_file = filenames[1]\n",
    "data = midi_to_dataframe(sample_file)\n",
    "data.head(4)"
   ]
  },
  {
   "cell_type": "code",
   "execution_count": 9,
   "metadata": {},
   "outputs": [
    {
     "name": "stdout",
     "output_type": "stream",
     "text": [
      "Data saved as 'midi_data.csv'\n"
     ]
    }
   ],
   "source": [
    "data.to_csv('midi_data.csv', index=False)\n",
    "print(\"Data saved as 'midi_data.csv'\")"
   ]
  }
 ],
 "metadata": {
  "kernelspec": {
   "display_name": "env",
   "language": "python",
   "name": "python3"
  },
  "language_info": {
   "codemirror_mode": {
    "name": "ipython",
    "version": 3
   },
   "file_extension": ".py",
   "mimetype": "text/x-python",
   "name": "python",
   "nbconvert_exporter": "python",
   "pygments_lexer": "ipython3",
   "version": "3.9.19"
  }
 },
 "nbformat": 4,
 "nbformat_minor": 2
}
